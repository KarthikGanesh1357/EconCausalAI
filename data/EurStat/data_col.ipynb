{
 "cells": [
  {
   "cell_type": "code",
   "execution_count": 15,
   "id": "afe64bf5",
   "metadata": {},
   "outputs": [],
   "source": [
    "import pandas as pd"
   ]
  },
  {
   "cell_type": "code",
   "execution_count": 3,
   "id": "9f8b5ee5",
   "metadata": {},
   "outputs": [],
   "source": [
    "import eurostat"
   ]
  },
  {
   "cell_type": "code",
   "execution_count": 12,
   "id": "2943dde5",
   "metadata": {},
   "outputs": [],
   "source": [
    "toc = eurostat.get_toc()"
   ]
  },
  {
   "cell_type": "code",
   "execution_count": 21,
   "id": "cf06583a",
   "metadata": {},
   "outputs": [],
   "source": [
    "toc=eurostat.get_toc(agency='all', dataset='all', lang='en')\n"
   ]
  },
  {
   "cell_type": "code",
   "execution_count": 24,
   "id": "bd916acc",
   "metadata": {},
   "outputs": [],
   "source": [
    "# Convert to DataFrame\n",
    "df = pd.DataFrame(toc[1:], columns=toc[0])\n",
    "\n",
    "df.to_csv(\"dataset_names.csv\")"
   ]
  },
  {
   "cell_type": "code",
   "execution_count": null,
   "id": "e8617e96",
   "metadata": {},
   "outputs": [
    {
     "name": "stdout",
     "output_type": "stream",
     "text": [
      "Top 10 economic/finance datasets:\n",
      "                                                 title              code\n",
      "95   Employment by sex, age, economic activity and ...    LFST_R_LFE2EN1\n",
      "97   Employment by sex, age, economic activity and ...    LFST_R_LFE2EN2\n",
      "100  Economically active population by sex, age, ed...  LFST_R_LFP2ACEDU\n",
      "102  Economically active population by sex, age and...    LFST_R_LFP2ACT\n",
      "105  Economic activity rates by sex, age and NUTS 2...  LFST_R_LFP2ACTRT\n",
      "148  Mean hourly earnings by sex, occupation and ec...     EARN_SES22_47\n",
      "152  Mean monthly earnings by sex, occupation and e...     EARN_SES22_48\n",
      "159  Mean annual earnings by sex, occupation and ec...     EARN_SES22_49\n",
      "251  Mean monthly hours paid by sex, occupation and...     EARN_SES22_50\n",
      "253  Mean annual holidays by sex, occupation and ec...     EARN_SES22_51\n",
      "Downloading: LFST_R_LFE2EN1\n",
      "Downloading: LFST_R_LFE2EN2\n",
      "Downloading: LFST_R_LFP2ACEDU\n",
      "Downloading: LFST_R_LFP2ACT\n",
      "Downloading: LFST_R_LFP2ACTRT\n",
      "Downloading: EARN_SES22_47\n",
      "Downloading: EARN_SES22_48\n",
      "Downloading: EARN_SES22_49\n",
      "Downloading: EARN_SES22_50\n",
      "Downloading: EARN_SES22_51\n",
      "✅ Download complete.\n"
     ]
    }
   ],
   "source": [
    "import eurostat\n",
    "import pandas as pd\n",
    "import re\n",
    "\n",
    "# Step 1: Get table of contents (all datasets)\n",
    "toc = eurostat.get_toc_df()\n",
    "\n",
    "# Step 2: Filter datasets with 'econ' or 'finance' in title or code\n",
    "keywords = ['economy', 'economic', 'finance', 'fiscal', 'gdp', 'deficit', 'budget', 'revenue', 'tax', 'debt', 'expenditure', 'inflation']\n",
    "pattern = re.compile('|'.join(keywords), re.IGNORECASE)\n",
    "\n",
    "econ_fin_toc = toc[\n",
    "    toc['title'].str.contains(pattern) | toc['code'].str.contains(pattern)\n",
    "].drop_duplicates(subset='code')\n",
    "\n",
    "print(econ_fin_toc[['title', 'code']].head(10))\n",
    "\n",
    "top10_codes = econ_fin_toc['code'].head(10).tolist()\n",
    "datasets = {}\n",
    "\n",
    "for code in top10_codes:\n",
    "    try:\n",
    "        print(f\"Downloading: {code}\")\n",
    "        data = eurostat.get_data_df(code)\n",
    "        datasets[code] = data\n",
    "        data.to_csv(f\"{code}.csv\", index=False)\n",
    "    except Exception as e:\n",
    "        print(f\"Error downloading {code}: {e}\")\n",
    "\n",
    "print(\"✅ Download complete.\")\n"
   ]
  }
 ],
 "metadata": {
  "kernelspec": {
   "display_name": ".venv",
   "language": "python",
   "name": "python3"
  },
  "language_info": {
   "codemirror_mode": {
    "name": "ipython",
    "version": 3
   },
   "file_extension": ".py",
   "mimetype": "text/x-python",
   "name": "python",
   "nbconvert_exporter": "python",
   "pygments_lexer": "ipython3",
   "version": "3.11.7"
  }
 },
 "nbformat": 4,
 "nbformat_minor": 5
}
